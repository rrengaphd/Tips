{
  "nbformat": 4,
  "nbformat_minor": 0,
  "metadata": {
    "colab": {
      "name": "GoogleDrive to Co-lab Method 2",
      "provenance": [],
      "authorship_tag": "ABX9TyOS89SjKQ3Xh4fUUYwrL29G",
      "include_colab_link": true
    },
    "kernelspec": {
      "name": "python3",
      "display_name": "Python 3"
    }
  },
  "cells": [
    {
      "cell_type": "markdown",
      "metadata": {
        "id": "view-in-github",
        "colab_type": "text"
      },
      "source": [
        "<a href=\"https://colab.research.google.com/github/rrengaphd/Tips/blob/master/GoogleDrive_to_Co_lab_Method_2.ipynb\" target=\"_parent\"><img src=\"https://colab.research.google.com/assets/colab-badge.svg\" alt=\"Open In Colab\"/></a>"
      ]
    },
    {
      "cell_type": "markdown",
      "metadata": {
        "id": "YoaROR99vKQK",
        "colab_type": "text"
      },
      "source": [
        "###Method:2 to load data into CoLab from Google Drive\n"
      ]
    },
    {
      "cell_type": "markdown",
      "metadata": {
        "id": "6XUvlSPuu73d",
        "colab_type": "text"
      },
      "source": [
        "Execute the below code, it will generate a link for creating authorization code. The link will open a new page with code on next tab. Copy the code and paste it on the text box which appreas below the link during execution. After pasting press Enter to execute."
      ]
    },
    {
      "cell_type": "code",
      "metadata": {
        "id": "7J4s5L-2uwRF",
        "colab_type": "code",
        "colab": {
          "base_uri": "https://localhost:8080/",
          "height": 124
        },
        "outputId": "f2331c17-422e-4158-ee47-ab832680ff82"
      },
      "source": [
        "from google.colab import drive\n",
        "drive.mount('/content/drive/')\n"
      ],
      "execution_count": 1,
      "outputs": [
        {
          "output_type": "stream",
          "text": [
            "Go to this URL in a browser: https://accounts.google.com/o/oauth2/auth?client_id=947318989803-6bn6qk8qdgf4n4g3pfee6491hc0brc4i.apps.googleusercontent.com&redirect_uri=urn%3aietf%3awg%3aoauth%3a2.0%3aoob&response_type=code&scope=email%20https%3a%2f%2fwww.googleapis.com%2fauth%2fdocs.test%20https%3a%2f%2fwww.googleapis.com%2fauth%2fdrive%20https%3a%2f%2fwww.googleapis.com%2fauth%2fdrive.photos.readonly%20https%3a%2f%2fwww.googleapis.com%2fauth%2fpeopleapi.readonly\n",
            "\n",
            "Enter your authorization code:\n",
            "··········\n",
            "Mounted at /content/drive/\n"
          ],
          "name": "stdout"
        }
      ]
    },
    {
      "cell_type": "markdown",
      "metadata": {
        "id": "iZO515DLv3pF",
        "colab_type": "text"
      },
      "source": [
        "The following code is used to read dataset from Google Drive to Google CoLab. To find the path. On the left of this page click the folder like icon. Expand drive, then My Drive, then the folder which contains the dataset. Finally click the three-dots available on the right end of the file name. Click Copy path and paste it as the argument in the following line."
      ]
    },
    {
      "cell_type": "code",
      "metadata": {
        "id": "P6Ndzc9Auxbe",
        "colab_type": "code",
        "colab": {}
      },
      "source": [
        "df=pd.read_csv('/content/drive/My Drive/Colab Notebooks/fake-news/train.csv')"
      ],
      "execution_count": null,
      "outputs": []
    }
  ]
}