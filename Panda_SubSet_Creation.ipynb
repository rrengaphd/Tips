{
  "nbformat": 4,
  "nbformat_minor": 0,
  "metadata": {
    "colab": {
      "name": "Untitled6.ipynb",
      "provenance": [],
      "authorship_tag": "ABX9TyMALZHepKZcPPQY9hmJcGxZ",
      "include_colab_link": true
    },
    "kernelspec": {
      "name": "python3",
      "display_name": "Python 3"
    }
  },
  "cells": [
    {
      "cell_type": "markdown",
      "metadata": {
        "id": "view-in-github",
        "colab_type": "text"
      },
      "source": [
        "<a href=\"https://colab.research.google.com/github/rrengaphd/Tips/blob/master/Panda_SubSet_Creation.ipynb\" target=\"_parent\"><img src=\"https://colab.research.google.com/assets/colab-badge.svg\" alt=\"Open In Colab\"/></a>"
      ]
    },
    {
      "cell_type": "markdown",
      "metadata": {
        "id": "xC--8irl4niz",
        "colab_type": "text"
      },
      "source": [
        "## Creating Subset Data Set of 1000 rows from a Super Set "
      ]
    },
    {
      "cell_type": "code",
      "metadata": {
        "id": "CJ9LGPsH4qTY",
        "colab_type": "code",
        "colab": {}
      },
      "source": [
        "import pandas as pd\n",
        "df = pd.read_csv('fake-news/train.csv')   # Source file inside fake-news folder and file name is train.csv\n",
        "new_df = df[:1000]  # Change the 1000 to your required number.\n",
        "df=[]   # Clear the existing contents to free memory.\n",
        "print(new_df.shape)    # Display the size of new data frame.\n",
        "# saving the dataframe \n",
        "new_df.to_csv('fake-news/train1000.csv')  # Target file created inside fake-news folder and file name is train1000.csv"
      ],
      "execution_count": null,
      "outputs": []
    }
  ]
}